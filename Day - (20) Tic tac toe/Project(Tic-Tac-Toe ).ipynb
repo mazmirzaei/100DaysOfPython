{
 "cells": [
  {
   "cell_type": "code",
   "execution_count": 1,
   "metadata": {},
   "outputs": [],
   "source": [
    "# clearnig output\n",
    "from IPython.display import clear_output\n",
    "import random\n",
    "\n",
    "# Global variables\n",
    "# a list of empty spaces\n",
    "the_game_board = [' '] *10\n",
    "\n",
    "# a list of avalibale spot in the board after each play\n",
    "avalibale_space_board = [str(num) for num in range(0,10)]\n",
    "\n",
    "# players numers\n",
    "players = [0,'X','O']\n"
   ]
  },
  {
   "cell_type": "code",
   "execution_count": 2,
   "metadata": {},
   "outputs": [],
   "source": [
    "# the function that prints out a board 3*3\n",
    "\n",
    "def display_board(a,b):\n",
    "    print('Avalibale moves ' + '       The game board \\n\\n' +\n",
    "          a[7] + '|' + a[8] + '|' + a[9] +'                     ' +  b[7] + '|' + b[8] + '|' + b[9] + '\\n'+\n",
    "          '------                    -----\\n' + \n",
    "          a[4] + '|' + a[5] + '|' + a[6] +'                     ' +  b[4] + '|' + b[5] + '|' + b[6] + '\\n'+\n",
    "          '------                    -----\\n' +     \n",
    "          a[1] + '|' + a[2] + '|' + a[3] +'                     ' +  b[1] + '|' + b[2] + '|' + b[3] + '\\n')"
   ]
  },
  {
   "cell_type": "code",
   "execution_count": 3,
   "metadata": {},
   "outputs": [],
   "source": [
    "display_board(avalibale_space_board,the_game_board)"
   ]
  },
  {
   "cell_type": "code",
   "execution_count": 4,
   "metadata": {},
   "outputs": [],
   "source": [
    "# the funcatin taht takes in a player input and assign their marker as 'X' or 'O'\n",
    "def player_input():\n",
    "    \n",
    "    marker =''\n",
    "    \n",
    "    while marker not in ['X','O']:\n",
    "        marker = input('Player 1, Please choice your side X or O : player 1 mark is : ').upper()\n",
    "        \n",
    "    \n",
    "    "
   ]
  },
  {
   "cell_type": "code",
   "execution_count": 5,
   "metadata": {},
   "outputs": [
    {
     "name": "stdout",
     "output_type": "stream",
     "text": [
      "Player 1, Please choice your side X or O : player 1 mark is : x\n"
     ]
    }
   ],
   "source": [
    "player_input()"
   ]
  },
  {
   "cell_type": "code",
   "execution_count": 6,
   "metadata": {},
   "outputs": [],
   "source": [
    "# the function that takes in board list object\n",
    "def place_marker(avail,board,marker,position):\n",
    "    board[position] = marker\n",
    "    avail[position] = ' '"
   ]
  },
  {
   "cell_type": "code",
   "execution_count": null,
   "metadata": {},
   "outputs": [],
   "source": []
  },
  {
   "cell_type": "code",
   "execution_count": 7,
   "metadata": {},
   "outputs": [],
   "source": [
    "# function that takes in a board and checks to see if someone has won\n",
    "def win_check(board,mark):\n",
    "\n",
    "    return ((board[7] ==  board[8] ==  board[9] == mark) or # across the top\n",
    "    (board[4] ==  board[5] ==  board[6] == mark) or # across the middle\n",
    "    (board[1] ==  board[2] ==  board[3] == mark) or # across the bottom\n",
    "    (board[7] ==  board[4] ==  board[1] == mark) or # down the middle\n",
    "    (board[8] ==  board[5] ==  board[2] == mark) or # down the middle\n",
    "    (board[9] ==  board[6] ==  board[3] == mark) or # down the right side\n",
    "    (board[7] ==  board[5] ==  board[3] == mark) or # diagonal\n",
    "    (board[9] ==  board[5] ==  board[1] == mark)) # diagonal"
   ]
  },
  {
   "cell_type": "code",
   "execution_count": 8,
   "metadata": {},
   "outputs": [],
   "source": [
    "# function that uses the random module to randomly decide which player goes first\n",
    "def random_player():\n",
    "    return random.choice((-1, 1))\n",
    "\n",
    "# function that returns a boolean indicating whether a space on the board is freely available\n",
    "def space_check(board,position):\n",
    "    return board[position] == ' '\n",
    "\n",
    "#  function that checks if the board is full \n",
    "def full_board_check(board):\n",
    "    return ' ' not in board[1:]"
   ]
  },
  {
   "cell_type": "code",
   "execution_count": null,
   "metadata": {},
   "outputs": [],
   "source": []
  },
  {
   "cell_type": "code",
   "execution_count": 9,
   "metadata": {},
   "outputs": [],
   "source": [
    "# function that asks for a player's next position (as a number 1-9) \n",
    "# and then uses the function from step 6 to check if its a free position. \n",
    "# If it is, then return the position for later use. \n",
    "\n",
    "def player_choice(board,player):\n",
    "    position = 0\n",
    "    acceptable_range=[1,2,3,4,5,6,7,8,9]\n",
    "    \n",
    "    while position not in acceptable_range or not space_check(board, position):\n",
    "        try:\n",
    "            position = int(input('Player %s, choose your next position: (1-9) '%(player)))\n",
    "        except:\n",
    "            print(\"I'm sorry, please try again.\")\n",
    "        \n",
    "    return position\n"
   ]
  },
  {
   "cell_type": "code",
   "execution_count": 10,
   "metadata": {},
   "outputs": [],
   "source": [
    "# function that asks the player if they want to play again \n",
    "def replay():\n",
    "    \n",
    "    return input('Do you want to play again? Enter Yes or No: ').lower().startswith('y')"
   ]
  },
  {
   "cell_type": "code",
   "execution_count": 11,
   "metadata": {},
   "outputs": [
    {
     "name": "stdout",
     "output_type": "stream",
     "text": [
      "Avalibale moves        The game board \n",
      "\n",
      "7|8|9                      | | \n",
      "------                    -----\n",
      " | |                      X|O|X\n",
      "------                    -----\n",
      " | |                      O|X|O\n",
      "\n",
      "Player O, choose your next position: (1-9) 7\n",
      "Avalibale moves        The game board \n",
      "\n",
      " |8|9                     O| | \n",
      "------                    -----\n",
      " | |                      X|O|X\n",
      "------                    -----\n",
      " | |                      O|X|O\n",
      "\n",
      "Congratulations! Player O wins!\n",
      "Do you want to play again? Enter Yes or No: n\n"
     ]
    }
   ],
   "source": [
    "# while loops and the functions to run the game!\n",
    "while True:\n",
    "    clear_output()\n",
    "    print('Welcome to Tic Tac Toe!')\n",
    "    \n",
    "    toggle = random_player()\n",
    "    player = players[toggle]\n",
    "    print('For this round, Player %s will go first!' %(player))\n",
    "    \n",
    "    game_on = True\n",
    "    input('Hit Enter to continue')\n",
    "    while game_on:\n",
    "        display_board(avalibale_space_board,the_game_board)\n",
    "        position = player_choice(the_game_board,player)\n",
    "        place_marker(avalibale_space_board,the_game_board,player,position)\n",
    "\n",
    "        if win_check(the_game_board, player):\n",
    "            display_board(avalibale_space_board,the_game_board)\n",
    "            print('Congratulations! Player '+player+' wins!')\n",
    "            game_on = False\n",
    "        else:\n",
    "            if full_board_check(the_game_board):\n",
    "                display_board(avalibale_space_board,the_game_board)\n",
    "                print('The game is a draw!')\n",
    "                break\n",
    "            else:\n",
    "                toggle *= -1\n",
    "                player = players[toggle]\n",
    "                clear_output()\n",
    "\n",
    "    # reset the board and available moves list\n",
    "    the_game_board = [' '] * 10\n",
    "    avalibale_space_board = [str(num) for num in range(0,10)]\n",
    "    \n",
    "    if not replay():\n",
    "        break\n",
    "\n",
    "\n",
    "\n",
    "\n"
   ]
  },
  {
   "cell_type": "code",
   "execution_count": null,
   "metadata": {},
   "outputs": [],
   "source": []
  }
 ],
 "metadata": {
  "kernelspec": {
   "display_name": "Python 3",
   "language": "python",
   "name": "python3"
  },
  "language_info": {
   "codemirror_mode": {
    "name": "ipython",
    "version": 3
   },
   "file_extension": ".py",
   "mimetype": "text/x-python",
   "name": "python",
   "nbconvert_exporter": "python",
   "pygments_lexer": "ipython3",
   "version": "3.7.6"
  }
 },
 "nbformat": 4,
 "nbformat_minor": 4
}
